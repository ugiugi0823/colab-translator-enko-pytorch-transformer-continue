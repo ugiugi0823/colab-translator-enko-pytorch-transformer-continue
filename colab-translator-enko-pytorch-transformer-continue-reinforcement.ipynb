{
  "cells": [
    {
      "cell_type": "markdown",
      "metadata": {
        "id": "ZrB41KDkUjyR"
      },
      "source": [
        "# **⭐️** **MRT 도전**\n",
        "- Minimum Risk Training\n",
        "\n"
      ]
    },
    {
      "cell_type": "markdown",
      "metadata": {
        "id": "foHWJQ28khCQ"
      },
      "source": [
        "## 1. 필요한 것들을 설치 해볼게요!"
      ]
    },
    {
      "cell_type": "code",
      "execution_count": null,
      "metadata": {
        "colab": {
          "base_uri": "https://localhost:8080/"
        },
        "id": "1tgdxGEWfa1N",
        "outputId": "cc52d712-4c8b-479f-a7b0-596f52eb9440"
      },
      "outputs": [
        {
          "name": "stderr",
          "output_type": "stream",
          "text": [
            "Downloading...\n",
            "From: https://drive.google.com/uc?id=1PnewMUJQW7pHPeLnsO5bMV6uRBzc4UUn&confirm=t\n",
            "To: /content/data.zip\n",
            "\r  0%|          | 0.00/1.72G [00:00<?, ?B/s]\r  0%|          | 4.72M/1.72G [00:00<01:04, 26.7MB/s]\r  1%|          | 17.3M/1.72G [00:00<00:28, 59.1MB/s]\r  2%|▏         | 34.1M/1.72G [00:00<00:20, 81.2MB/s]\r  3%|▎         | 50.9M/1.72G [00:00<00:19, 85.0MB/s]\r  4%|▍         | 67.6M/1.72G [00:00<00:18, 87.1MB/s]\r  5%|▍         | 77.6M/1.72G [00:00<00:18, 89.9MB/s]\r  5%|▌         | 92.8M/1.72G [00:01<00:17, 94.8MB/s]\r  6%|▌         | 103M/1.72G [00:01<00:16, 95.9MB/s] \r  7%|▋         | 118M/1.72G [00:01<00:16, 95.1MB/s]\r  7%|▋         | 128M/1.72G [00:01<00:16, 97.4MB/s]\r  9%|▉         | 151M/1.72G [00:01<00:12, 130MB/s] \r 10%|▉         | 165M/1.72G [00:01<00:12, 121MB/s]\r 10%|█         | 178M/1.72G [00:01<00:13, 111MB/s]\r 12%|█▏        | 202M/1.72G [00:02<00:20, 72.4MB/s]\r 13%|█▎        | 227M/1.72G [00:02<00:16, 90.8MB/s]\r 15%|█▍        | 251M/1.72G [00:02<00:12, 113MB/s] \r 16%|█▌        | 266M/1.72G [00:02<00:11, 121MB/s]\r 16%|█▋        | 282M/1.72G [00:02<00:12, 117MB/s]\r 17%|█▋        | 295M/1.72G [00:02<00:12, 117MB/s]\r 18%|█▊        | 311M/1.72G [00:03<00:12, 116MB/s]\r 20%|█▉        | 336M/1.72G [00:03<00:10, 127MB/s]\r 21%|██        | 361M/1.72G [00:03<00:09, 136MB/s]\r 22%|██▏       | 386M/1.72G [00:03<00:08, 160MB/s]\r 24%|██▎       | 403M/1.72G [00:03<00:09, 141MB/s]\r 25%|██▍       | 428M/1.72G [00:03<00:08, 154MB/s]\r 26%|██▋       | 454M/1.72G [00:03<00:07, 170MB/s]\r 27%|██▋       | 471M/1.72G [00:04<00:07, 171MB/s]\r 29%|██▊       | 489M/1.72G [00:04<00:07, 162MB/s]\r 29%|██▉       | 506M/1.72G [00:04<00:07, 158MB/s]\r 30%|███       | 522M/1.72G [00:04<00:07, 152MB/s]\r 31%|███▏      | 538M/1.72G [00:04<00:12, 91.0MB/s]\r 33%|███▎      | 560M/1.72G [00:04<00:10, 114MB/s] \r 34%|███▍      | 579M/1.72G [00:05<00:09, 118MB/s]\r 35%|███▌      | 605M/1.72G [00:05<00:07, 145MB/s]\r 36%|███▋      | 622M/1.72G [00:05<00:10, 104MB/s]\r 38%|███▊      | 652M/1.72G [00:05<00:07, 140MB/s]\r 39%|███▉      | 671M/1.72G [00:05<00:07, 138MB/s]\r 40%|████      | 688M/1.72G [00:05<00:08, 128MB/s]\r 42%|████▏     | 714M/1.72G [00:05<00:06, 147MB/s]\r 43%|████▎     | 731M/1.72G [00:06<00:09, 101MB/s]\r 44%|████▍     | 761M/1.72G [00:06<00:07, 136MB/s]\r 45%|████▌     | 780M/1.72G [00:06<00:08, 108MB/s]\r 46%|████▋     | 797M/1.72G [00:06<00:07, 118MB/s]\r 47%|████▋     | 813M/1.72G [00:06<00:07, 122MB/s]\r 48%|████▊     | 828M/1.72G [00:07<00:08, 98.7MB/s]\r 50%|████▉     | 856M/1.72G [00:07<00:06, 128MB/s] \r 51%|█████     | 875M/1.72G [00:07<00:06, 140MB/s]\r 52%|█████▏    | 892M/1.72G [00:07<00:06, 127MB/s]\r 53%|█████▎    | 918M/1.72G [00:07<00:05, 155MB/s]\r 55%|█████▍    | 935M/1.72G [00:07<00:04, 159MB/s]\r 56%|█████▌    | 957M/1.72G [00:07<00:04, 170MB/s]\r 57%|█████▋    | 976M/1.72G [00:08<00:05, 139MB/s]\r 59%|█████▊    | 1.01G/1.72G [00:08<00:04, 174MB/s]\r 60%|█████▉    | 1.02G/1.72G [00:08<00:04, 155MB/s]\r 61%|██████    | 1.04G/1.72G [00:08<00:04, 139MB/s]\r 62%|██████▏   | 1.06G/1.72G [00:08<00:06, 103MB/s]\r 63%|██████▎   | 1.08G/1.72G [00:09<00:06, 98.5MB/s]\r 65%|██████▍   | 1.11G/1.72G [00:09<00:04, 129MB/s] \r 66%|██████▌   | 1.13G/1.72G [00:09<00:04, 128MB/s]\r 67%|██████▋   | 1.15G/1.72G [00:09<00:03, 145MB/s]\r 68%|██████▊   | 1.17G/1.72G [00:09<00:04, 124MB/s]\r 70%|██████▉   | 1.19G/1.72G [00:09<00:03, 154MB/s]\r 71%|███████   | 1.21G/1.72G [00:09<00:03, 144MB/s]\r 72%|███████▏  | 1.23G/1.72G [00:09<00:03, 140MB/s]\r 73%|███████▎  | 1.24G/1.72G [00:10<00:03, 132MB/s]\r 74%|███████▍  | 1.27G/1.72G [00:10<00:04, 111MB/s]\r 75%|███████▍  | 1.28G/1.72G [00:10<00:04, 104MB/s]\r 77%|███████▋  | 1.31G/1.72G [00:10<00:02, 140MB/s]\r 78%|███████▊  | 1.33G/1.72G [00:10<00:02, 152MB/s]\r 79%|███████▉  | 1.35G/1.72G [00:10<00:02, 157MB/s]\r 80%|███████▉  | 1.37G/1.72G [00:10<00:02, 148MB/s]\r 81%|████████  | 1.39G/1.72G [00:11<00:02, 154MB/s]\r 82%|████████▏ | 1.40G/1.72G [00:11<00:01, 157MB/s]\r 83%|████████▎ | 1.43G/1.72G [00:11<00:03, 83.1MB/s]\r 85%|████████▍ | 1.45G/1.72G [00:11<00:02, 112MB/s] \r 86%|████████▌ | 1.47G/1.72G [00:11<00:02, 104MB/s]\r 87%|████████▋ | 1.49G/1.72G [00:12<00:01, 118MB/s]\r 88%|████████▊ | 1.51G/1.72G [00:12<00:02, 90.5MB/s]\r 90%|████████▉ | 1.54G/1.72G [00:12<00:01, 124MB/s] \r 91%|█████████ | 1.56G/1.72G [00:12<00:01, 123MB/s]\r 92%|█████████▏| 1.57G/1.72G [00:12<00:01, 109MB/s]\r 93%|█████████▎| 1.59G/1.72G [00:12<00:00, 127MB/s]\r 94%|█████████▍| 1.61G/1.72G [00:13<00:00, 133MB/s]\r 95%|█████████▍| 1.63G/1.72G [00:13<00:00, 133MB/s]\r 96%|█████████▌| 1.64G/1.72G [00:13<00:00, 139MB/s]\r 97%|█████████▋| 1.66G/1.72G [00:13<00:00, 138MB/s]\r 98%|█████████▊| 1.68G/1.72G [00:13<00:00, 143MB/s]\r 99%|█████████▉| 1.70G/1.72G [00:13<00:00, 144MB/s]\r100%|██████████| 1.72G/1.72G [00:13<00:00, 125MB/s]\n",
            "Downloading...\n",
            "From: https://drive.google.com/uc?id=1BIBHD8SnVtJZ_tMjgstYRwVKJJLQsK5E&confirm=t\n",
            "To: /content/test.pth\n",
            "\r  0%|          | 0.00/1.56G [00:00<?, ?B/s]\r  0%|          | 4.72M/1.56G [00:00<02:23, 10.9MB/s]\r  2%|▏         | 25.7M/1.56G [00:00<00:49, 31.1MB/s]\r  3%|▎         | 42.5M/1.56G [00:01<00:31, 48.8MB/s]\r  4%|▍         | 58.7M/1.56G [00:01<00:22, 68.2MB/s]\r  4%|▍         | 69.7M/1.56G [00:01<00:21, 69.5MB/s]\r  5%|▌         | 79.2M/1.56G [00:01<00:27, 54.7MB/s]\r  6%|▌         | 87.0M/1.56G [00:01<00:25, 58.1MB/s]\r  6%|▋         | 101M/1.56G [00:02<00:32, 44.9MB/s] \r  8%|▊         | 126M/1.56G [00:02<00:21, 68.1MB/s]\r 10%|▉         | 152M/1.56G [00:02<00:17, 80.8MB/s]\r 11%|█▏        | 177M/1.56G [00:02<00:15, 91.6MB/s]\r 13%|█▎        | 202M/1.56G [00:03<00:20, 66.9MB/s]\r 14%|█▍        | 226M/1.56G [00:03<00:15, 87.1MB/s]\r 15%|█▌        | 240M/1.56G [00:03<00:23, 56.9MB/s]\r 17%|█▋        | 273M/1.56G [00:04<00:14, 87.3MB/s]\r 19%|█▉        | 303M/1.56G [00:04<00:11, 110MB/s] \r 21%|██▏       | 332M/1.56G [00:04<00:08, 139MB/s]\r 23%|██▎       | 360M/1.56G [00:04<00:07, 164MB/s]\r 25%|██▍       | 383M/1.56G [00:04<00:07, 161MB/s]\r 26%|██▌       | 405M/1.56G [00:05<00:11, 97.0MB/s]\r 27%|██▋       | 421M/1.56G [00:05<00:11, 101MB/s] \r 28%|██▊       | 437M/1.56G [00:05<00:13, 84.0MB/s]\r 29%|██▉       | 451M/1.56G [00:05<00:11, 93.2MB/s]\r 30%|██▉       | 465M/1.56G [00:05<00:11, 97.6MB/s]\r 31%|███       | 487M/1.56G [00:05<00:12, 85.7MB/s]\r 32%|███▏      | 498M/1.56G [00:06<00:12, 84.2MB/s]\r 33%|███▎      | 512M/1.56G [00:06<00:11, 91.1MB/s]\r 33%|███▎      | 523M/1.56G [00:06<00:14, 70.4MB/s]\r 35%|███▌      | 551M/1.56G [00:06<00:09, 108MB/s] \r 36%|███▌      | 566M/1.56G [00:06<00:09, 105MB/s]\r 38%|███▊      | 588M/1.56G [00:06<00:07, 123MB/s]\r 39%|███▊      | 605M/1.56G [00:07<00:11, 85.0MB/s]\r 40%|███▉      | 621M/1.56G [00:07<00:10, 92.1MB/s]\r 41%|████      | 638M/1.56G [00:07<00:11, 77.6MB/s]\r 42%|████▏     | 655M/1.56G [00:07<00:10, 82.7MB/s]\r 43%|████▎     | 672M/1.56G [00:08<00:11, 74.6MB/s]\r 44%|████▍     | 685M/1.56G [00:08<00:10, 83.3MB/s]\r 45%|████▍     | 697M/1.56G [00:08<00:09, 90.9MB/s]\r 46%|████▌     | 722M/1.56G [00:08<00:07, 118MB/s] \r 48%|████▊     | 744M/1.56G [00:08<00:05, 140MB/s]\r 49%|████▊     | 760M/1.56G [00:08<00:07, 112MB/s]\r 50%|████▉     | 781M/1.56G [00:08<00:06, 129MB/s]\r 52%|█████▏    | 806M/1.56G [00:09<00:07, 101MB/s]\r 52%|█████▏    | 819M/1.56G [00:09<00:07, 98.6MB/s]\r 54%|█████▍    | 839M/1.56G [00:09<00:08, 88.3MB/s]\r 54%|█████▍    | 850M/1.56G [00:09<00:08, 86.8MB/s]\r 56%|█████▌    | 873M/1.56G [00:09<00:06, 114MB/s] \r 57%|█████▋    | 893M/1.56G [00:10<00:05, 130MB/s]\r 59%|█████▊    | 915M/1.56G [00:10<00:04, 141MB/s]\r 61%|██████    | 947M/1.56G [00:10<00:03, 182MB/s]\r 62%|██████▏   | 968M/1.56G [00:10<00:03, 162MB/s]\r 63%|██████▎   | 986M/1.56G [00:10<00:03, 166MB/s]\r 64%|██████▍   | 1.01G/1.56G [00:10<00:05, 101MB/s]\r 66%|██████▌   | 1.02G/1.56G [00:11<00:04, 113MB/s]\r 67%|██████▋   | 1.04G/1.56G [00:11<00:04, 119MB/s]\r 68%|██████▊   | 1.05G/1.56G [00:11<00:06, 74.1MB/s]\r 69%|██████▉   | 1.07G/1.56G [00:11<00:05, 89.1MB/s]\r 70%|███████   | 1.10G/1.56G [00:11<00:04, 115MB/s] \r 71%|███████▏  | 1.12G/1.56G [00:11<00:03, 120MB/s]\r 73%|███████▎  | 1.14G/1.56G [00:11<00:03, 141MB/s]\r 74%|███████▍  | 1.15G/1.56G [00:12<00:02, 148MB/s]\r 75%|███████▌  | 1.17G/1.56G [00:12<00:02, 146MB/s]\r 77%|███████▋  | 1.19G/1.56G [00:12<00:02, 167MB/s]\r 78%|███████▊  | 1.21G/1.56G [00:12<00:03, 101MB/s]\r 79%|███████▊  | 1.23G/1.56G [00:12<00:03, 89.2MB/s]\r 81%|████████  | 1.26G/1.56G [00:13<00:02, 113MB/s] \r 82%|████████▏ | 1.27G/1.56G [00:13<00:02, 119MB/s]\r 83%|████████▎ | 1.29G/1.56G [00:13<00:02, 130MB/s]\r 84%|████████▎ | 1.31G/1.56G [00:13<00:02, 110MB/s]\r 85%|████████▌ | 1.33G/1.56G [00:13<00:01, 136MB/s]\r 86%|████████▋ | 1.35G/1.56G [00:13<00:01, 135MB/s]\r 88%|████████▊ | 1.37G/1.56G [00:13<00:01, 150MB/s]\r 89%|████████▉ | 1.39G/1.56G [00:13<00:01, 149MB/s]\r 90%|█████████ | 1.41G/1.56G [00:14<00:01, 86.9MB/s]\r 92%|█████████▏| 1.43G/1.56G [00:14<00:01, 94.3MB/s]\r 93%|█████████▎| 1.45G/1.56G [00:14<00:01, 84.6MB/s]\r 94%|█████████▍| 1.47G/1.56G [00:15<00:01, 88.2MB/s]\r 96%|█████████▌| 1.50G/1.56G [00:15<00:00, 115MB/s] \r 98%|█████████▊| 1.53G/1.56G [00:15<00:00, 137MB/s]\r 99%|█████████▉| 1.54G/1.56G [00:15<00:00, 144MB/s]\r100%|█████████▉| 1.56G/1.56G [00:15<00:00, 136MB/s]\r100%|██████████| 1.56G/1.56G [00:15<00:00, 100MB/s]\n",
            "Cloning into 'simple-nmt-master'...\n"
          ]
        }
      ],
      "source": [
        "%%sh\n",
        "gdown \"1PnewMUJQW7pHPeLnsO5bMV6uRBzc4UUn&confirm=t\"\n",
        "# gdown \"1BIBHD8SnVtJZ_tMjgstYRwVKJJLQsK5E&confirm=t\" \n",
        "git clone https://github.com/ugiugi0823/simple-nmt-master.git"
      ]
    },
    {
      "cell_type": "code",
      "execution_count": null,
      "metadata": {
        "id": "ZNEI3I6WhQmT"
      },
      "outputs": [],
      "source": [
        "import os\n",
        "from zipfile import ZipFile\n",
        "\n",
        "\n",
        "\n",
        "# 알집이 있는 경로에서 open.zip을 가져옵니다\n",
        "dir = '/content/'\n",
        "\n",
        "# 실제로 알집이 풀어질 경로\n",
        "base_dir = '/content/simple-nmt-master/'\n",
        "# os.chdir(base_dir)\n",
        "\n",
        "# 알집을 풀어볼까용?\n",
        "ZipFile(dir + 'data.zip').extractall(base_dir)\n",
        "\n",
        "# 실제로 잘 풀렸는지 확인\n",
        "os.listdir(base_dir)\n",
        "\n",
        "\n",
        "\n",
        "\n"
      ]
    },
    {
      "cell_type": "code",
      "execution_count": null,
      "metadata": {
        "id": "_3S9UqzDkoSg"
      },
      "outputs": [],
      "source": [
        "%%sh\n",
        "pip install -r requirements.txt\n",
        "curl -s https://raw.githubusercontent.com/teddylee777/machine-learning/master/99-Misc/01-Colab/mecab-colab.sh | bash"
      ]
    },
    {
      "cell_type": "code",
      "execution_count": null,
      "metadata": {
        "colab": {
          "base_uri": "https://localhost:8080/"
        },
        "id": "k4kfRrpZcH4J",
        "outputId": "c0e6fa5a-908b-4b8c-d95d-e0aa12c5433a"
      },
      "outputs": [
        {
          "name": "stdout",
          "output_type": "stream",
          "text": [
            "/content/simple-nmt-master\n"
          ]
        }
      ],
      "source": [
        "%cd /content/simple-nmt-master"
      ]
    },
    {
      "cell_type": "markdown",
      "metadata": {
        "id": "zMO9m4pUpxMb"
      },
      "source": [
        "## 2. 초기화"
      ]
    },
    {
      "cell_type": "code",
      "execution_count": null,
      "metadata": {
        "id": "CJENunrBpJid"
      },
      "outputs": [],
      "source": [
        "import os\n",
        "os.kill(os.getpid(), 9)"
      ]
    },
    {
      "cell_type": "code",
      "execution_count": null,
      "metadata": {
        "id": "jenkrQOWOr_y"
      },
      "outputs": [],
      "source": [
        "import torch\n",
        "import torchtext\n",
        "\n",
        "print(f'version torchtext:{torchtext.__version__}')\n",
        "print(f'version torch :{torch.__version__}')\n",
        "!python --version"
      ]
    },
    {
      "cell_type": "markdown",
      "metadata": {
        "id": "qFtTECzwnFZ5"
      },
      "source": [
        "# MLE 모델 만들기"
      ]
    },
    {
      "cell_type": "code",
      "execution_count": null,
      "metadata": {
        "id": "O3MO36DCnQKv"
      },
      "outputs": [],
      "source": [
        "CMD = \"python train.py \"\\\n",
        "      \"--train ./data/corpus.shuf.train.tok.bpe \"\\\n",
        "      \"--valid ./data/corpus.shuf.valid.tok.bpe \"\\\n",
        "      \"--lang enko \"\\\n",
        "      \"--gpu_id 0 \"\\\n",
        "      \"--batch_size 8 \"\\\n",
        "      \"--n_epochs 1 \"\\\n",
        "      \"--max_length 64 \"\\\n",
        "      \"--dropout .2 \"\\\n",
        "      \"--hidden_size 768 \"\\\n",
        "      \"--n_layers 4 \"\\\n",
        "      \"--max_grad_norm 1e+8 \"\\\n",
        "      \"--iteration_per_update 32 \"\\\n",
        "      \"--lr 1e-3 \"\\\n",
        "      \"--lr_step 0 \"\\\n",
        "      \"--use_adam \"\\\n",
        "      \"--rl_n_epochs 0 \"\\\n",
        "      \"--use_transformer \"\\\n",
        "      \"--model_fn ./model_save/MLE.pth\"\n",
        "\n",
        "!{CMD}"
      ]
    },
    {
      "cell_type": "markdown",
      "metadata": {
        "id": "6_zbj7jdnbPc"
      },
      "source": [
        "# MRT 만들기"
      ]
    },
    {
      "cell_type": "code",
      "execution_count": null,
      "metadata": {
        "id": "emZpX-DNbUIR"
      },
      "outputs": [],
      "source": [
        "!python ./continue_train.py --load_fn ./model_save/test.pth --rl_n_epochs 1 --max_grad_norm 5.0 --gpu_id 0 --init_epoch 1 --model_fn ./model_save/test.pth\n"
      ]
    },
    {
      "cell_type": "code",
      "execution_count": null,
      "metadata": {
        "id": "lwOiY2FunBTr"
      },
      "outputs": [],
      "source": [
        "CMD = \"python continue_train.py \"\\\n",
        "      \"--load_fn ./model_save/test.pth \"\\\n",
        "      \"--rl_n_epochs 1 \"\\\n",
        "      \"--max_grad_norm 5.0 \"\\\n",
        "      \"--gpu_id 0 \"\\\n",
        "      \"--init_epoch 1 \"\\\n",
        "      \"--model_fn ./model_save/test.pth\"\n",
        "\n",
        "!{CMD}"
      ]
    },
    {
      "cell_type": "markdown",
      "metadata": {
        "id": "v2SmuhZkmdT3"
      },
      "source": [
        "# **Test**"
      ]
    },
    {
      "cell_type": "code",
      "execution_count": null,
      "metadata": {
        "id": "KKQT_KPjlxRk"
      },
      "outputs": [],
      "source": [
        "!head -n 10 ./data/corpus.shuf.test.en "
      ]
    },
    {
      "cell_type": "code",
      "execution_count": null,
      "metadata": {
        "id": "NBUKcDW9BnFo"
      },
      "outputs": [],
      "source": [
        "CMD = \"head -n 10 ./data/corpus.shuf.test.tok.bpe.en\"\\\n",
        "      \"|python ./translate.py --model_fn ./model_save/test.pth --lang enko --gpu_id 0\"\\\n",
        "      \"|python ./detokenizer.py\"\\\n",
        "\n",
        "!{CMD}"
      ]
    },
    {
      "cell_type": "code",
      "execution_count": null,
      "metadata": {
        "id": "JN5HDiCsmxY8"
      },
      "outputs": [],
      "source": [
        "!head -n 10 ./data/corpus.shuf.test.ko "
      ]
    },
    {
      "cell_type": "code",
      "execution_count": null,
      "metadata": {
        "colab": {
          "base_uri": "https://localhost:8080/"
        },
        "id": "Q8Fb0sRbU_oJ",
        "outputId": "a573f84d-1156-44eb-f9a2-afebba5d5e36"
      },
      "outputs": [
        {
          "name": "stdout",
          "output_type": "stream",
          "text": [
            "/bin/bash: mecab: command not found\n",
            "python3: can't open file './simple-nmt-master/translate.py': [Errno 2] No such file or directory\n",
            "python3: can't open file './simple-nmt-master/detokenizer.py': [Errno 2] No such file or directory\n"
          ]
        }
      ],
      "source": [
        "!echo \"Hello\" | mecab -O wakati | python translate.py --model_fn ./model_save/test.pth --lang enko --gpu_id 0 | python ./detokenizer.py"
      ]
    },
    {
      "cell_type": "code",
      "execution_count": null,
      "metadata": {
        "id": "-gNugLhVnsRN"
      },
      "outputs": [],
      "source": [
        "!echo \"안녕\" | mecab -O wakati | python translate.py --model_fn ./model_save/test.pth --lang koen --gpu_id 0 | python ./detokenizer.py"
      ]
    }
  ],
  "metadata": {
    "accelerator": "GPU",
    "colab": {
      "collapsed_sections": [
        "foHWJQ28khCQ"
      ],
      "machine_shape": "hm",
      "provenance": []
    },
    "gpuClass": "premium",
    "kernelspec": {
      "display_name": "Python 3",
      "name": "python3"
    },
    "language_info": {
      "name": "python"
    }
  },
  "nbformat": 4,
  "nbformat_minor": 0
}
